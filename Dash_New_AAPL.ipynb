{
 "cells": [
  {
   "cell_type": "code",
   "execution_count": 4,
   "id": "dc7561c3-f06f-4895-9eec-6ddf4b9b60a6",
   "metadata": {},
   "outputs": [
    {
     "data": {
      "text/html": [
       "\n",
       "        <iframe\n",
       "            width=\"100%\"\n",
       "            height=\"650\"\n",
       "            src=\"http://127.0.0.1:8050/\"\n",
       "            frameborder=\"0\"\n",
       "            allowfullscreen\n",
       "            \n",
       "        ></iframe>\n",
       "        "
      ],
      "text/plain": [
       "<IPython.lib.display.IFrame at 0x105c43f10>"
      ]
     },
     "metadata": {},
     "output_type": "display_data"
    }
   ],
   "source": [
    "import dash\n",
    "from dash import dcc, html, callback, Output, Input\n",
    "\n",
    "# Create a Dash app\n",
    "app = dash.Dash(__name__, suppress_callback_exceptions=True)\n",
    "\n",
    "# Define the layout of the app\n",
    "app.layout = html.Div([\n",
    "    dcc.Location(id='url', refresh=False),\n",
    "    html.Div([\n",
    "        html.H1('Apple Financial Data and News'),\n",
    "        html.Div([\n",
    "            dcc.Link('Introduction', href='/'),\n",
    "            dcc.Link('Stock Last 1 Year', href='/stock-last-year', style={'margin-left': '10px'}),\n",
    "            dcc.Link('Smart Phone Market Last Year', href='/smart-phone-market', style={'margin-left': '10px'}),\n",
    "            dcc.Link('Apple Revenue by Region', href='/revenue-by-region', style={'margin-left': '10px'}),\n",
    "            dcc.Link('Apple Product Revenue', href='/product-revenue', style={'margin-left': '10px'}),\n",
    "            dcc.Link('Insights and Analysis From ChatGPT', href='/insights', style={'margin-left': '10px'})\n",
    "        ], style={'display': 'flex', 'justify-content': 'center', 'margin-bottom': '20px'}),\n",
    "    ], style={'text-align': 'center'}),\n",
    "    html.Div(id='page-content')\n",
    "])\n",
    "\n",
    "# Callbacks to render different pages\n",
    "@callback(Output('page-content', 'children'), [Input('url', 'pathname')])\n",
    "def display_page(pathname):\n",
    "    if pathname == '/':\n",
    "        return html.Div([\n",
    "            html.H2('Introduction'),\n",
    "            html.P('Welcome to this website, designed to analyze Apple\\'s financial performance over the past year. We provide insights using data on stock prices, regional revenue, and product revenue share. Our visualizations include stock price trends with key event markers, quarterly regional revenue graphs, and product revenue distributions. These analyses offer a clear understanding of how product launches and financial reports impact Apple\\'s market performance, helping investors and enthusiasts make informed decisions.')\n",
    "        ])\n",
    "    elif pathname == '/stock-last-year':\n",
    "        return html.Div([\n",
    "            html.H2('Stock Last 1 Year'),\n",
    "            # Add your Stock Last 1 Year content here\n",
    "        ])\n",
    "    elif pathname == '/smart-phone-market':\n",
    "        return html.Div([\n",
    "            html.H2('Smart Phone Market Last Year'),\n",
    "            # Add your Smart Phone Market Last Year content here\n",
    "        ])\n",
    "    elif pathname == '/revenue-by-region':\n",
    "        return html.Div([\n",
    "            html.H2('Apple Revenue by Region'),\n",
    "            # Add your Apple Revenue by Region content here\n",
    "        ])\n",
    "    elif pathname == '/product-revenue':\n",
    "        return html.Div([\n",
    "            html.H2('Apple Product Revenue'),\n",
    "            # Add your Apple Product Revenue content here\n",
    "        ])\n",
    "    elif pathname == '/insights':\n",
    "        return html.Div([\n",
    "            html.H2('Insights and Analysis From ChatGPT'),\n",
    "            # Add your Insights and Analysis From ChatGPT content here\n",
    "        ])\n",
    "    else:\n",
    "        return html.Div([\n",
    "            html.H2('404'),\n",
    "            html.P('Page not found')\n",
    "        ])\n",
    "\n",
    "# Run the app\n",
    "if __name__ == '__main__':\n",
    "    app.run_server(debug=True)\n"
   ]
  }
 ],
 "metadata": {
  "kernelspec": {
   "display_name": "Python 3 (ipykernel)",
   "language": "python",
   "name": "python3"
  },
  "language_info": {
   "codemirror_mode": {
    "name": "ipython",
    "version": 3
   },
   "file_extension": ".py",
   "mimetype": "text/x-python",
   "name": "python",
   "nbconvert_exporter": "python",
   "pygments_lexer": "ipython3",
   "version": "3.11.7"
  }
 },
 "nbformat": 4,
 "nbformat_minor": 5
}
